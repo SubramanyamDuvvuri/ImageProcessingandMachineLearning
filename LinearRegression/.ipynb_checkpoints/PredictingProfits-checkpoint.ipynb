{
 "cells": [
  {
   "cell_type": "code",
   "execution_count": 1,
   "metadata": {
    "collapsed": true
   },
   "outputs": [],
   "source": [
    "import numpy as np"
   ]
  },
  {
   "cell_type": "code",
   "execution_count": 2,
   "metadata": {
    "collapsed": true
   },
   "outputs": [],
   "source": [
    "import matplotlib.pyplot as plt\n"
   ]
  },
  {
   "cell_type": "code",
   "execution_count": 3,
   "metadata": {
    "collapsed": true
   },
   "outputs": [],
   "source": [
    "data= np.loadtxt(\"ex1data1.txt\",delimiter = ',' )"
   ]
  },
  {
   "cell_type": "code",
   "execution_count": 4,
   "metadata": {
    "collapsed": false
   },
   "outputs": [
    {
     "data": {
      "text/plain": [
       "array([[  6.1101 ,  17.592  ],\n",
       "       [  5.5277 ,   9.1302 ],\n",
       "       [  8.5186 ,  13.662  ],\n",
       "       [  7.0032 ,  11.854  ],\n",
       "       [  5.8598 ,   6.8233 ],\n",
       "       [  8.3829 ,  11.886  ],\n",
       "       [  7.4764 ,   4.3483 ],\n",
       "       [  8.5781 ,  12.     ],\n",
       "       [  6.4862 ,   6.5987 ],\n",
       "       [  5.0546 ,   3.8166 ],\n",
       "       [  5.7107 ,   3.2522 ],\n",
       "       [ 14.164  ,  15.505  ],\n",
       "       [  5.734  ,   3.1551 ],\n",
       "       [  8.4084 ,   7.2258 ],\n",
       "       [  5.6407 ,   0.71618],\n",
       "       [  5.3794 ,   3.5129 ],\n",
       "       [  6.3654 ,   5.3048 ],\n",
       "       [  5.1301 ,   0.56077],\n",
       "       [  6.4296 ,   3.6518 ],\n",
       "       [  7.0708 ,   5.3893 ],\n",
       "       [  6.1891 ,   3.1386 ],\n",
       "       [ 20.27   ,  21.767  ],\n",
       "       [  5.4901 ,   4.263  ],\n",
       "       [  6.3261 ,   5.1875 ],\n",
       "       [  5.5649 ,   3.0825 ],\n",
       "       [ 18.945  ,  22.638  ],\n",
       "       [ 12.828  ,  13.501  ],\n",
       "       [ 10.957  ,   7.0467 ],\n",
       "       [ 13.176  ,  14.692  ],\n",
       "       [ 22.203  ,  24.147  ],\n",
       "       [  5.2524 ,  -1.22   ],\n",
       "       [  6.5894 ,   5.9966 ],\n",
       "       [  9.2482 ,  12.134  ],\n",
       "       [  5.8918 ,   1.8495 ],\n",
       "       [  8.2111 ,   6.5426 ],\n",
       "       [  7.9334 ,   4.5623 ],\n",
       "       [  8.0959 ,   4.1164 ],\n",
       "       [  5.6063 ,   3.3928 ],\n",
       "       [ 12.836  ,  10.117  ],\n",
       "       [  6.3534 ,   5.4974 ],\n",
       "       [  5.4069 ,   0.55657],\n",
       "       [  6.8825 ,   3.9115 ],\n",
       "       [ 11.708  ,   5.3854 ],\n",
       "       [  5.7737 ,   2.4406 ],\n",
       "       [  7.8247 ,   6.7318 ],\n",
       "       [  7.0931 ,   1.0463 ],\n",
       "       [  5.0702 ,   5.1337 ],\n",
       "       [  5.8014 ,   1.844  ],\n",
       "       [ 11.7    ,   8.0043 ],\n",
       "       [  5.5416 ,   1.0179 ],\n",
       "       [  7.5402 ,   6.7504 ],\n",
       "       [  5.3077 ,   1.8396 ],\n",
       "       [  7.4239 ,   4.2885 ],\n",
       "       [  7.6031 ,   4.9981 ],\n",
       "       [  6.3328 ,   1.4233 ],\n",
       "       [  6.3589 ,  -1.4211 ],\n",
       "       [  6.2742 ,   2.4756 ],\n",
       "       [  5.6397 ,   4.6042 ],\n",
       "       [  9.3102 ,   3.9624 ],\n",
       "       [  9.4536 ,   5.4141 ],\n",
       "       [  8.8254 ,   5.1694 ],\n",
       "       [  5.1793 ,  -0.74279],\n",
       "       [ 21.279  ,  17.929  ],\n",
       "       [ 14.908  ,  12.054  ],\n",
       "       [ 18.959  ,  17.054  ],\n",
       "       [  7.2182 ,   4.8852 ],\n",
       "       [  8.2951 ,   5.7442 ],\n",
       "       [ 10.236  ,   7.7754 ],\n",
       "       [  5.4994 ,   1.0173 ],\n",
       "       [ 20.341  ,  20.992  ],\n",
       "       [ 10.136  ,   6.6799 ],\n",
       "       [  7.3345 ,   4.0259 ],\n",
       "       [  6.0062 ,   1.2784 ],\n",
       "       [  7.2259 ,   3.3411 ],\n",
       "       [  5.0269 ,  -2.6807 ],\n",
       "       [  6.5479 ,   0.29678],\n",
       "       [  7.5386 ,   3.8845 ],\n",
       "       [  5.0365 ,   5.7014 ],\n",
       "       [ 10.274  ,   6.7526 ],\n",
       "       [  5.1077 ,   2.0576 ],\n",
       "       [  5.7292 ,   0.47953],\n",
       "       [  5.1884 ,   0.20421],\n",
       "       [  6.3557 ,   0.67861],\n",
       "       [  9.7687 ,   7.5435 ],\n",
       "       [  6.5159 ,   5.3436 ],\n",
       "       [  8.5172 ,   4.2415 ],\n",
       "       [  9.1802 ,   6.7981 ],\n",
       "       [  6.002  ,   0.92695],\n",
       "       [  5.5204 ,   0.152  ],\n",
       "       [  5.0594 ,   2.8214 ],\n",
       "       [  5.7077 ,   1.8451 ],\n",
       "       [  7.6366 ,   4.2959 ],\n",
       "       [  5.8707 ,   7.2029 ],\n",
       "       [  5.3054 ,   1.9869 ],\n",
       "       [  8.2934 ,   0.14454],\n",
       "       [ 13.394  ,   9.0551 ],\n",
       "       [  5.4369 ,   0.61705]])"
      ]
     },
     "execution_count": 4,
     "metadata": {},
     "output_type": "execute_result"
    }
   ],
   "source": [
    "data\n"
   ]
  },
  {
   "cell_type": "code",
   "execution_count": 27,
   "metadata": {
    "collapsed": true
   },
   "outputs": [],
   "source": [
    "x = data[:,0]"
   ]
  },
  {
   "cell_type": "code",
   "execution_count": 6,
   "metadata": {
    "collapsed": false
   },
   "outputs": [
    {
     "data": {
      "text/plain": [
       "array([  6.1101,   5.5277,   8.5186,   7.0032,   5.8598,   8.3829,\n",
       "         7.4764,   8.5781,   6.4862,   5.0546,   5.7107,  14.164 ,\n",
       "         5.734 ,   8.4084,   5.6407,   5.3794,   6.3654,   5.1301,\n",
       "         6.4296,   7.0708,   6.1891,  20.27  ,   5.4901,   6.3261,\n",
       "         5.5649,  18.945 ,  12.828 ,  10.957 ,  13.176 ,  22.203 ,\n",
       "         5.2524,   6.5894,   9.2482,   5.8918,   8.2111,   7.9334,\n",
       "         8.0959,   5.6063,  12.836 ,   6.3534,   5.4069,   6.8825,\n",
       "        11.708 ,   5.7737,   7.8247,   7.0931,   5.0702,   5.8014,\n",
       "        11.7   ,   5.5416,   7.5402,   5.3077,   7.4239,   7.6031,\n",
       "         6.3328,   6.3589,   6.2742,   5.6397,   9.3102,   9.4536,\n",
       "         8.8254,   5.1793,  21.279 ,  14.908 ,  18.959 ,   7.2182,\n",
       "         8.2951,  10.236 ,   5.4994,  20.341 ,  10.136 ,   7.3345,\n",
       "         6.0062,   7.2259,   5.0269,   6.5479,   7.5386,   5.0365,\n",
       "        10.274 ,   5.1077,   5.7292,   5.1884,   6.3557,   9.7687,\n",
       "         6.5159,   8.5172,   9.1802,   6.002 ,   5.5204,   5.0594,\n",
       "         5.7077,   7.6366,   5.8707,   5.3054,   8.2934,  13.394 ,   5.4369])"
      ]
     },
     "execution_count": 6,
     "metadata": {},
     "output_type": "execute_result"
    }
   ],
   "source": [
    "x"
   ]
  },
  {
   "cell_type": "code",
   "execution_count": 7,
   "metadata": {
    "collapsed": false
   },
   "outputs": [
    {
     "ename": "TypeError",
     "evalue": "zip argument #1 must support iteration",
     "output_type": "error",
     "traceback": [
      "\u001b[0;31m---------------------------------------------------------------------------\u001b[0m",
      "\u001b[0;31mTypeError\u001b[0m                                 Traceback (most recent call last)",
      "\u001b[0;32m<ipython-input-7-a7b598d7d222>\u001b[0m in \u001b[0;36m<module>\u001b[0;34m()\u001b[0m\n\u001b[0;32m----> 1\u001b[0;31m \u001b[0mx\u001b[0m\u001b[1;33m=\u001b[0m\u001b[0mzip\u001b[0m\u001b[1;33m(\u001b[0m\u001b[1;33m*\u001b[0m\u001b[0mx\u001b[0m\u001b[1;33m)\u001b[0m\u001b[1;33m\u001b[0m\u001b[0m\n\u001b[0m",
      "\u001b[0;31mTypeError\u001b[0m: zip argument #1 must support iteration"
     ]
    }
   ],
   "source": [
    "x=zip(*x)"
   ]
  },
  {
   "cell_type": "code",
   "execution_count": 8,
   "metadata": {
    "collapsed": true
   },
   "outputs": [],
   "source": [
    "y =data[:,1]"
   ]
  },
  {
   "cell_type": "code",
   "execution_count": 9,
   "metadata": {
    "collapsed": false
   },
   "outputs": [
    {
     "data": {
      "text/plain": [
       "array([ 17.592  ,   9.1302 ,  13.662  ,  11.854  ,   6.8233 ,  11.886  ,\n",
       "         4.3483 ,  12.     ,   6.5987 ,   3.8166 ,   3.2522 ,  15.505  ,\n",
       "         3.1551 ,   7.2258 ,   0.71618,   3.5129 ,   5.3048 ,   0.56077,\n",
       "         3.6518 ,   5.3893 ,   3.1386 ,  21.767  ,   4.263  ,   5.1875 ,\n",
       "         3.0825 ,  22.638  ,  13.501  ,   7.0467 ,  14.692  ,  24.147  ,\n",
       "        -1.22   ,   5.9966 ,  12.134  ,   1.8495 ,   6.5426 ,   4.5623 ,\n",
       "         4.1164 ,   3.3928 ,  10.117  ,   5.4974 ,   0.55657,   3.9115 ,\n",
       "         5.3854 ,   2.4406 ,   6.7318 ,   1.0463 ,   5.1337 ,   1.844  ,\n",
       "         8.0043 ,   1.0179 ,   6.7504 ,   1.8396 ,   4.2885 ,   4.9981 ,\n",
       "         1.4233 ,  -1.4211 ,   2.4756 ,   4.6042 ,   3.9624 ,   5.4141 ,\n",
       "         5.1694 ,  -0.74279,  17.929  ,  12.054  ,  17.054  ,   4.8852 ,\n",
       "         5.7442 ,   7.7754 ,   1.0173 ,  20.992  ,   6.6799 ,   4.0259 ,\n",
       "         1.2784 ,   3.3411 ,  -2.6807 ,   0.29678,   3.8845 ,   5.7014 ,\n",
       "         6.7526 ,   2.0576 ,   0.47953,   0.20421,   0.67861,   7.5435 ,\n",
       "         5.3436 ,   4.2415 ,   6.7981 ,   0.92695,   0.152  ,   2.8214 ,\n",
       "         1.8451 ,   4.2959 ,   7.2029 ,   1.9869 ,   0.14454,   9.0551 ,\n",
       "         0.61705])"
      ]
     },
     "execution_count": 9,
     "metadata": {},
     "output_type": "execute_result"
    }
   ],
   "source": [
    "y"
   ]
  },
  {
   "cell_type": "code",
   "execution_count": 10,
   "metadata": {
    "collapsed": false
   },
   "outputs": [
    {
     "ename": "NameError",
     "evalue": "name 'size' is not defined",
     "output_type": "error",
     "traceback": [
      "\u001b[0;31m---------------------------------------------------------------------------\u001b[0m",
      "\u001b[0;31mNameError\u001b[0m                                 Traceback (most recent call last)",
      "\u001b[0;32m<ipython-input-10-1a5381f097dd>\u001b[0m in \u001b[0;36m<module>\u001b[0;34m()\u001b[0m\n\u001b[0;32m----> 1\u001b[0;31m \u001b[0msize\u001b[0m\u001b[1;33m(\u001b[0m\u001b[0mx\u001b[0m\u001b[1;33m)\u001b[0m\u001b[1;33m\u001b[0m\u001b[0m\n\u001b[0m",
      "\u001b[0;31mNameError\u001b[0m: name 'size' is not defined"
     ]
    }
   ],
   "source": [
    "size(x)\n"
   ]
  },
  {
   "cell_type": "code",
   "execution_count": 55,
   "metadata": {
    "collapsed": false
   },
   "outputs": [],
   "source": [
    "y = data[:,1]"
   ]
  },
  {
   "cell_type": "code",
   "execution_count": null,
   "metadata": {
    "collapsed": false
   },
   "outputs": [],
   "source": []
  },
  {
   "cell_type": "code",
   "execution_count": 57,
   "metadata": {
    "collapsed": false
   },
   "outputs": [],
   "source": [
    "y.shape= (len(y),1)"
   ]
  },
  {
   "cell_type": "code",
   "execution_count": null,
   "metadata": {
    "collapsed": false
   },
   "outputs": [],
   "source": []
  },
  {
   "cell_type": "code",
   "execution_count": 58,
   "metadata": {
    "collapsed": false
   },
   "outputs": [],
   "source": [
    "ones=np.ones((len(y),1))"
   ]
  },
  {
   "cell_type": "code",
   "execution_count": null,
   "metadata": {
    "collapsed": true
   },
   "outputs": [],
   "source": []
  },
  {
   "cell_type": "code",
   "execution_count": null,
   "metadata": {
    "collapsed": true
   },
   "outputs": [],
   "source": []
  },
  {
   "cell_type": "code",
   "execution_count": null,
   "metadata": {
    "collapsed": false
   },
   "outputs": [],
   "source": []
  },
  {
   "cell_type": "code",
   "execution_count": null,
   "metadata": {
    "collapsed": true
   },
   "outputs": [],
   "source": []
  },
  {
   "cell_type": "code",
   "execution_count": null,
   "metadata": {
    "collapsed": false
   },
   "outputs": [],
   "source": []
  },
  {
   "cell_type": "code",
   "execution_count": null,
   "metadata": {
    "collapsed": false
   },
   "outputs": [],
   "source": []
  },
  {
   "cell_type": "code",
   "execution_count": null,
   "metadata": {
    "collapsed": false
   },
   "outputs": [],
   "source": [
    "\n"
   ]
  },
  {
   "cell_type": "code",
   "execution_count": null,
   "metadata": {
    "collapsed": false
   },
   "outputs": [],
   "source": []
  },
  {
   "cell_type": "code",
   "execution_count": null,
   "metadata": {
    "collapsed": false
   },
   "outputs": [],
   "source": []
  },
  {
   "cell_type": "code",
   "execution_count": null,
   "metadata": {
    "collapsed": false
   },
   "outputs": [],
   "source": []
  },
  {
   "cell_type": "code",
   "execution_count": null,
   "metadata": {
    "collapsed": true
   },
   "outputs": [],
   "source": []
  },
  {
   "cell_type": "code",
   "execution_count": null,
   "metadata": {
    "collapsed": false
   },
   "outputs": [],
   "source": []
  },
  {
   "cell_type": "code",
   "execution_count": null,
   "metadata": {
    "collapsed": false
   },
   "outputs": [],
   "source": []
  },
  {
   "cell_type": "code",
   "execution_count": null,
   "metadata": {
    "collapsed": false
   },
   "outputs": [],
   "source": []
  },
  {
   "cell_type": "code",
   "execution_count": null,
   "metadata": {
    "collapsed": true
   },
   "outputs": [],
   "source": []
  }
 ],
 "metadata": {
  "kernelspec": {
   "display_name": "Python 2",
   "language": "python",
   "name": "python2"
  },
  "language_info": {
   "codemirror_mode": {
    "name": "ipython",
    "version": 2
   },
   "file_extension": ".py",
   "mimetype": "text/x-python",
   "name": "python",
   "nbconvert_exporter": "python",
   "pygments_lexer": "ipython2",
   "version": "2.7.11"
  }
 },
 "nbformat": 4,
 "nbformat_minor": 1
}
